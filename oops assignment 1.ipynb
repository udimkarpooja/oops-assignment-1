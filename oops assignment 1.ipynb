{
 "cells": [
  {
   "cell_type": "markdown",
   "id": "39b0504a-8cdd-4054-8b03-e44f6b753143",
   "metadata": {},
   "source": [
    "Q1. Explain Class and Object with respect to Object-Oriented Programming. Give a suitable example"
   ]
  },
  {
   "cell_type": "markdown",
   "id": "b1fdf011-aca5-4120-bb07-4d1ece620cfc",
   "metadata": {},
   "source": [
    "An object is simply a collection of data(variable) and methods(function). similarly, a class is a blueprint for that object. "
   ]
  },
  {
   "cell_type": "code",
   "execution_count": 1,
   "id": "77bac8a4-ea20-490b-ad10-f481f5963c66",
   "metadata": {},
   "outputs": [],
   "source": [
    "class student :\n",
    "    \n",
    "    def student_details(self, mobile_no , email_id , student_id ) :\n",
    "        self.mobile_no = mobile_no\n",
    "        self.email_id = email_id\n",
    "        self.student_id = student_id\n",
    "        \n",
    "    def all_student_details(self) :\n",
    "        return self.mobile_no , self.email_id , self.student_id \n",
    "    "
   ]
  },
  {
   "cell_type": "code",
   "execution_count": 2,
   "id": "113db68e-5baa-4dcc-9d1f-3aa974177f3c",
   "metadata": {},
   "outputs": [],
   "source": [
    "sham = student()"
   ]
  },
  {
   "cell_type": "code",
   "execution_count": 5,
   "id": "1b8c3962-5abf-4fca-ad20-d116c923044f",
   "metadata": {},
   "outputs": [],
   "source": [
    "sham.student_details(1236547896 , \"sham@gmail.com\" , 111)"
   ]
  },
  {
   "cell_type": "code",
   "execution_count": 6,
   "id": "fdca9ab4-5c4d-4f44-8c86-a5a8d30a5164",
   "metadata": {},
   "outputs": [
    {
     "data": {
      "text/plain": [
       "(1236547896, 'sham@gmail.com', 111)"
      ]
     },
     "execution_count": 6,
     "metadata": {},
     "output_type": "execute_result"
    }
   ],
   "source": [
    "sham.all_student_details()"
   ]
  },
  {
   "cell_type": "markdown",
   "id": "bf06091e-1e89-4669-b0c1-d2d933e6ced3",
   "metadata": {},
   "source": [
    "Q2. Name the four pillars of OOPs."
   ]
  },
  {
   "cell_type": "markdown",
   "id": "ee740f0e-72f3-4109-971e-f3e250015159",
   "metadata": {},
   "source": [
    "* Polymorphism\n",
    "* Inheritance\n",
    "* Encapsulation\n",
    "* Abstraction"
   ]
  },
  {
   "cell_type": "markdown",
   "id": "538e565c-0049-472f-92da-e09c34a78a2d",
   "metadata": {},
   "source": [
    "Q3. Explain why the __init__() function is used. Give a suitable example."
   ]
  },
  {
   "cell_type": "markdown",
   "id": "e1e07ba3-766e-474c-994d-132f878109a6",
   "metadata": {},
   "source": [
    "_ _ _init_ _ _() is a constructor and a special function in python that runs whenever a new object is created. these types of function are used to initialize the attributes of that class.  "
   ]
  },
  {
   "cell_type": "code",
   "execution_count": 1,
   "id": "4951435c-466d-435a-9f76-2dd4a94cad0a",
   "metadata": {},
   "outputs": [],
   "source": [
    "class car :\n",
    "    \n",
    "    def __init__(self, colour , model , speed ) :\n",
    "        self.colour = colour\n",
    "        self.model = model\n",
    "        self.speed = speed\n",
    "        "
   ]
  },
  {
   "cell_type": "markdown",
   "id": "620c8757-e514-4362-8d2e-c506e9b27603",
   "metadata": {},
   "source": [
    "Q4. Why self is used in OOPs?"
   ]
  },
  {
   "cell_type": "markdown",
   "id": "0eadba40-9b3e-455f-89bd-7fe9c452cbaf",
   "metadata": {},
   "source": [
    "self represents the instance of the class. By using the “self”  we can access the attributes and methods of the class in python. It binds the attributes with the given arguments."
   ]
  },
  {
   "cell_type": "markdown",
   "id": "357d83ac-098d-44f4-85c3-781a49d0a5ee",
   "metadata": {},
   "source": [
    "Q5. What is inheritance? Give an example for each type of inheritance."
   ]
  },
  {
   "cell_type": "markdown",
   "id": "8b218314-1f42-4470-b0c5-d493a8650ecf",
   "metadata": {},
   "source": [
    "The capability of a class to derive properties and characteristics from another class is called Inheritance. Inheritance is one of the most important features of Object-Oriented Programming.the child class inherits the properties from the superclass."
   ]
  },
  {
   "cell_type": "code",
   "execution_count": null,
   "id": "dd14c67e-6bd8-40e8-bb4c-91124069c15f",
   "metadata": {},
   "outputs": [],
   "source": []
  }
 ],
 "metadata": {
  "kernelspec": {
   "display_name": "Python 3 (ipykernel)",
   "language": "python",
   "name": "python3"
  },
  "language_info": {
   "codemirror_mode": {
    "name": "ipython",
    "version": 3
   },
   "file_extension": ".py",
   "mimetype": "text/x-python",
   "name": "python",
   "nbconvert_exporter": "python",
   "pygments_lexer": "ipython3",
   "version": "3.10.8"
  }
 },
 "nbformat": 4,
 "nbformat_minor": 5
}
